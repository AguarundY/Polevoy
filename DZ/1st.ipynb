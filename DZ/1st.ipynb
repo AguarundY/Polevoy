{
 "cells": [
  {
   "cell_type": "code",
   "execution_count": 2,
   "metadata": {},
   "outputs": [
    {
     "data": {
      "application/vnd.jupyter.widget-view+json": {
       "model_id": "2412ff1da9014e1daae64799276ebdec",
       "version_major": 2,
       "version_minor": 0
      },
      "text/plain": [
       "A Jupyter Widget"
      ]
     },
     "metadata": {},
     "output_type": "display_data"
    },
    {
     "data": {
      "text/plain": [
       "<function __main__.fun>"
      ]
     },
     "execution_count": 2,
     "metadata": {},
     "output_type": "execute_result"
    }
   ],
   "source": [
    "import numpy as np\n",
    "import cv2 as cv\n",
    "import matplotlib.pyplot as plt\n",
    "import time\n",
    "from ipywidgets import widgets\n",
    "\n",
    "\n",
    "\n",
    "%matplotlib inline\n",
    "\n",
    "img = cv.imread(r\"app.png\")\n",
    "#plt.imshow(img)\n",
    "#img = cv.cvtColor(img, cv.COLOR_BGR2RGB)\n",
    "\n",
    "\n",
    "def fun(x):\n",
    "    cv.imwrite('img95.jpg', img, [int(cv.IMWRITE_JPEG_QUALITY), x])\n",
    "    img1 = cv.imread(r\"img95.jpg\")\n",
    "    raz = cv.subtract(img, img1)\n",
    "    raz2 = cv.subtract(img1, img)\n",
    "\n",
    "    razitog = cv.bitwise_or(raz, raz2)\n",
    "    razitog2 = img1 - img\n",
    "    vis = np.concatenate((img, img1, razitog), axis=1)\n",
    "    vis = cv.cvtColor(vis, cv.COLOR_BGR2RGB)\n",
    "    plt.imshow(vis)\n",
    "    \n",
    "widgets.interact(fun, x = (0, 100, 1))"
   ]
  },
  {
   "cell_type": "code",
   "execution_count": null,
   "metadata": {
    "collapsed": true
   },
   "outputs": [],
   "source": []
  },
  {
   "cell_type": "code",
   "execution_count": null,
   "metadata": {
    "collapsed": true
   },
   "outputs": [],
   "source": []
  },
  {
   "cell_type": "code",
   "execution_count": null,
   "metadata": {
    "collapsed": true
   },
   "outputs": [],
   "source": []
  }
 ],
 "metadata": {
  "kernelspec": {
   "display_name": "Python 3",
   "language": "python",
   "name": "python3"
  },
  "language_info": {
   "codemirror_mode": {
    "name": "ipython",
    "version": 3
   },
   "file_extension": ".py",
   "mimetype": "text/x-python",
   "name": "python",
   "nbconvert_exporter": "python",
   "pygments_lexer": "ipython3",
   "version": "3.6.3"
  }
 },
 "nbformat": 4,
 "nbformat_minor": 2
}
